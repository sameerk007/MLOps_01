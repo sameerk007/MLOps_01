{
 "cells": [
  {
   "cell_type": "code",
   "execution_count": 1,
   "metadata": {},
   "outputs": [],
   "source": [
    "import azureml.core\n",
    "from azureml.core import Workspace\n",
    "from azureml.core.compute import AmlCompute, ComputeTarget\n",
    "from azureml.core.compute_target import ComputeTargetException\n",
    "from azureml.core import Experiment, RunConfiguration, ScriptRunConfig ,Environment"
   ]
  },
  {
   "cell_type": "code",
   "execution_count": null,
   "metadata": {},
   "outputs": [],
   "source": [
    "# Check the Azure ML SDK version (optional but recommended)\n",
    "print(\"Azure ML SDK Version: \", azureml.core.VERSION)"
   ]
  },
  {
   "cell_type": "code",
   "execution_count": null,
   "metadata": {},
   "outputs": [],
   "source": []
  },
  {
   "cell_type": "code",
   "execution_count": 28,
   "metadata": {},
   "outputs": [],
   "source": [
    "ws = Workspace.from_config()"
   ]
  },
  {
   "cell_type": "code",
   "execution_count": null,
   "metadata": {},
   "outputs": [],
   "source": [
    "ws.datasets"
   ]
  },
  {
   "cell_type": "code",
   "execution_count": 3,
   "metadata": {},
   "outputs": [],
   "source": [
    "compute_lists = ws.compute_targets"
   ]
  },
  {
   "cell_type": "code",
   "execution_count": 29,
   "metadata": {},
   "outputs": [],
   "source": [
    "mlops_01 = ComputeTarget(ws,'MLOps-01')"
   ]
  },
  {
   "cell_type": "code",
   "execution_count": 33,
   "metadata": {},
   "outputs": [
    {
     "data": {
      "text/plain": [
       "False"
      ]
     },
     "execution_count": 33,
     "metadata": {},
     "output_type": "execute_result"
    }
   ],
   "source": [
    "mlops_01.delete()"
   ]
  },
  {
   "cell_type": "code",
   "execution_count": 4,
   "metadata": {},
   "outputs": [
    {
     "data": {
      "text/plain": [
       "dict"
      ]
     },
     "execution_count": 4,
     "metadata": {},
     "output_type": "execute_result"
    }
   ],
   "source": [
    "type(compute_lists)"
   ]
  },
  {
   "cell_type": "code",
   "execution_count": 13,
   "metadata": {},
   "outputs": [
    {
     "data": {
      "text/plain": [
       "dict_items([('MLOps-01', AmlCompute(workspace=Workspace.create(name='machine-learning', subscription_id='72300789-c223-4047-bfd5-2859014ad9f7', resource_group='machinelearning-rg'), name=MLOps-01, id=/subscriptions/72300789-c223-4047-bfd5-2859014ad9f7/resourceGroups/machinelearning-rg/providers/Microsoft.MachineLearningServices/workspaces/machine-learning/computes/MLOps-01, type=AmlCompute, provisioning_state=Succeeded, location=eastasia, tags={}))])"
      ]
     },
     "execution_count": 13,
     "metadata": {},
     "output_type": "execute_result"
    }
   ],
   "source": [
    "compute_lists.items()"
   ]
  },
  {
   "cell_type": "code",
   "execution_count": 16,
   "metadata": {},
   "outputs": [
    {
     "data": {
      "text/plain": [
       "'\"{\\'MLOps-01\\': AmlCompute(workspace=Workspace.create(name=\\'machine-learning\\', subscription_id=\\'72300789-c223-4047-bfd5-2859014ad9f7\\', resource_group=\\'machinelearning-rg\\'), name=MLOps-01, id=/subscriptions/72300789-c223-4047-bfd5-2859014ad9f7/resourceGroups/machinelearning-rg/providers/Microsoft.MachineLearningServices/workspaces/machine-learning/computes/MLOps-01, type=AmlCompute, provisioning_state=Succeeded, location=eastasia, tags={})}\"'"
      ]
     },
     "execution_count": 16,
     "metadata": {},
     "output_type": "execute_result"
    }
   ],
   "source": [
    "import json\n",
    "json.dumps(str(compute_lists),indent=4)"
   ]
  },
  {
   "cell_type": "code",
   "execution_count": 19,
   "metadata": {},
   "outputs": [
    {
     "name": "stdout",
     "output_type": "stream",
     "text": [
      "('\"{\\'MLOps-01\\': '\n",
      " \"AmlCompute(workspace=Workspace.create(name='machine-learning', \"\n",
      " \"subscription_id='72300789-c223-4047-bfd5-2859014ad9f7', \"\n",
      " \"resource_group='machinelearning-rg'), name=MLOps-01, \"\n",
      " 'id=/subscriptions/72300789-c223-4047-bfd5-2859014ad9f7/resourceGroups/machinelearning-rg/providers/Microsoft.MachineLearningServices/workspaces/machine-learning/computes/MLOps-01, '\n",
      " 'type=AmlCompute, provisioning_state=Succeeded, location=eastasia, tags={})}\"')\n"
     ]
    }
   ],
   "source": [
    "from pprint import pprint\n",
    "pprint(json.dumps(str(compute_lists),indent=4))"
   ]
  },
  {
   "cell_type": "code",
   "execution_count": 22,
   "metadata": {},
   "outputs": [
    {
     "name": "stdout",
     "output_type": "stream",
     "text": [
      "(\"{'MLOps-01': AmlCompute(workspace=Workspace.create(name='machine-learning', \"\n",
      " \"subscription_id='72300789-c223-4047-bfd5-2859014ad9f7', \"\n",
      " \"resource_group='machinelearning-rg'), name=MLOps-01, \"\n",
      " 'id=/subscriptions/72300789-c223-4047-bfd5-2859014ad9f7/resourceGroups/machinelearning-rg/providers/Microsoft.MachineLearningServices/workspaces/machine-learning/computes/MLOps-01, '\n",
      " 'type=AmlCompute, provisioning_state=Succeeded, location=eastasia, tags={})}')\n"
     ]
    }
   ],
   "source": [
    "pprint(str(compute_lists))"
   ]
  },
  {
   "cell_type": "markdown",
   "metadata": {},
   "source": [
    "\n",
    "## Get the list of Enviornment available\n",
    "\n"
   ]
  },
  {
   "cell_type": "code",
   "execution_count": null,
   "metadata": {},
   "outputs": [],
   "source": [
    "# Load your Azure ML workspace\n",
    "ws = Workspace.from_config()\n",
    "\n",
    "# Get a list of available curated environments\n",
    "envs = Environment.list(workspace=ws)\n",
    "\n",
    "# Print the names of available curated environments\n",
    "for env_name in envs:\n",
    "    print(env_name)"
   ]
  },
  {
   "cell_type": "markdown",
   "metadata": {},
   "source": [
    "### Create an environemnt from the requirements txt"
   ]
  },
  {
   "cell_type": "code",
   "execution_count": null,
   "metadata": {},
   "outputs": [],
   "source": [
    "#Create an envionment from requirements.txt file\n",
    "env = Environment.from_pip_requirements(name='mlops_01_env_from_pip_local',file_path='./requirements.txt',)\n",
    "# Register the enviorment to the workspace\n",
    "env.register(ws) \n",
    "#build the env\n",
    "env.build(ws)"
   ]
  },
  {
   "cell_type": "markdown",
   "metadata": {},
   "source": [
    "# Lets Start with an Experiment"
   ]
  },
  {
   "cell_type": "code",
   "execution_count": null,
   "metadata": {},
   "outputs": [],
   "source": [
    "from azureml.core import Experiment, RunConfiguration, ScriptRunConfig ,Environment\n",
    "\n",
    "# Load your Azure ML workspace from the config file\n",
    "ws = Workspace.from_config()\n",
    "\n",
    "# Create a new experiment\n",
    "experiment_name = \"iris-experiment\"\n",
    "experiment = Experiment(workspace=ws, name=experiment_name)\n",
    "\n",
    "\n",
    "\n",
    "# Create A Run Configuration\n",
    "run_config = RunConfiguration()\n",
    "run_config.target = \"MLOps-01\"  #The compute_targets available \n",
    "run_config.environment = ws.environments['mlops_01_env_from_pip_local']\n",
    "\n",
    "\n",
    "\n",
    "# Specify the output folder where the model and results will be saved\n",
    "output_folder = \"./outputs\"  # Change this to your desired location\n",
    "\n",
    "\n",
    "# Specify the script to run (train_01.py in this case)\n",
    "script_run_config = ScriptRunConfig(source_directory=\".\", script=\"train_01.py\", run_config=run_config,arguments=[\"--output_folder\", output_folder])\n",
    "\n",
    "\n",
    "# Submit the experiment\n",
    "run = experiment.submit(config=script_run_config)\n",
    "run.wait_for_completion(show_output=True)\n"
   ]
  },
  {
   "cell_type": "code",
   "execution_count": null,
   "metadata": {},
   "outputs": [],
   "source": [
    "\n",
    "\n",
    "\n",
    "\n",
    "\n"
   ]
  },
  {
   "cell_type": "code",
   "execution_count": null,
   "metadata": {},
   "outputs": [],
   "source": []
  },
  {
   "cell_type": "code",
   "execution_count": null,
   "metadata": {},
   "outputs": [],
   "source": []
  }
 ],
 "metadata": {
  "kernelspec": {
   "display_name": ".venv",
   "language": "python",
   "name": "python3"
  },
  "language_info": {
   "codemirror_mode": {
    "name": "ipython",
    "version": 3
   },
   "file_extension": ".py",
   "mimetype": "text/x-python",
   "name": "python",
   "nbconvert_exporter": "python",
   "pygments_lexer": "ipython3",
   "version": "3.8.10"
  },
  "orig_nbformat": 4
 },
 "nbformat": 4,
 "nbformat_minor": 2
}
