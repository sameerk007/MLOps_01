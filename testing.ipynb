{
 "cells": [
  {
   "cell_type": "code",
   "execution_count": 5,
   "metadata": {},
   "outputs": [],
   "source": [
    "import azureml.core\n",
    "from azureml.core import Workspace\n",
    "from azureml.core.compute import AmlCompute, ComputeTarget\n",
    "from azureml.core.compute_target import ComputeTargetException"
   ]
  },
  {
   "cell_type": "code",
   "execution_count": 6,
   "metadata": {},
   "outputs": [
    {
     "name": "stdout",
     "output_type": "stream",
     "text": [
      "Azure ML SDK Version:  1.53.0\n"
     ]
    }
   ],
   "source": [
    "# Check the Azure ML SDK version (optional but recommended)\n",
    "print(\"Azure ML SDK Version: \", azureml.core.VERSION)"
   ]
  },
  {
   "cell_type": "code",
   "execution_count": 13,
   "metadata": {},
   "outputs": [],
   "source": [
    "ws = Workspace.from_config()"
   ]
  },
  {
   "cell_type": "code",
   "execution_count": 15,
   "metadata": {},
   "outputs": [
    {
     "data": {
      "text/plain": [
       "{'MD-Attrition_Model_Boosted_tree-Train_Model-Trained_model-d76aed3e': DatasetRegistration(id='fab85361-fe50-4a90-a568-5d47fd9fd01e', name='MD-Attrition_Model_Boosted_tree-Train_Model-Trained_model-d76aed3e', version=1, description='This is a dataset promoted by inference graph generation automatically on 12/26/2022 09:06:00. \n",
       "\n",
       " Training pipeline run name:Attrition_Model Boosted_tree \n",
       "\n",
       "Training pipeline run id:6f1e2277-3982-437f-aeb2-7548630217ad \n",
       "\n",
       "Module Name:Train Model \n",
       "\n",
       "ModuleId:561d2c00-323e-50eb-afcf-acc6694e3244 \n",
       "\n",
       "Port:Trained_model', tags={'azureml.Designer': 'true'}), 'attrition_data': DatasetRegistration(id='148931a4-700a-4021-a40a-8b2d74f3b881', name='attrition_data', version=2, description='', tags={})}"
      ]
     },
     "execution_count": 15,
     "metadata": {},
     "output_type": "execute_result"
    }
   ],
   "source": [
    "ws.datasets"
   ]
  }
 ],
 "metadata": {
  "kernelspec": {
   "display_name": ".venv",
   "language": "python",
   "name": "python3"
  },
  "language_info": {
   "codemirror_mode": {
    "name": "ipython",
    "version": 3
   },
   "file_extension": ".py",
   "mimetype": "text/x-python",
   "name": "python",
   "nbconvert_exporter": "python",
   "pygments_lexer": "ipython3",
   "version": "3.8.10"
  },
  "orig_nbformat": 4
 },
 "nbformat": 4,
 "nbformat_minor": 2
}
