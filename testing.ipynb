{
 "cells": [
  {
   "cell_type": "code",
   "execution_count": 49,
   "metadata": {},
   "outputs": [],
   "source": [
    "import azureml.core\n",
    "from azureml.core import Workspace\n",
    "from azureml.core.compute import AmlCompute, ComputeTarget\n",
    "from azureml.core.compute_target import ComputeTargetException\n",
    "from azureml.core import Experiment, RunConfiguration, ScriptRunConfig ,Environment\n",
    "from azureml.core import Run, Dataset"
   ]
  },
  {
   "cell_type": "code",
   "execution_count": null,
   "metadata": {},
   "outputs": [],
   "source": [
    "# Check the Azure ML SDK version (optional but recommended)\n",
    "print(\"Azure ML SDK Version: \", azureml.core.VERSION)"
   ]
  },
  {
   "cell_type": "code",
   "execution_count": null,
   "metadata": {},
   "outputs": [],
   "source": []
  },
  {
   "cell_type": "code",
   "execution_count": 50,
   "metadata": {},
   "outputs": [],
   "source": [
    "ws = Workspace.from_config()"
   ]
  },
  {
   "cell_type": "code",
   "execution_count": null,
   "metadata": {},
   "outputs": [],
   "source": [
    "ws.datasets"
   ]
  },
  {
   "cell_type": "code",
   "execution_count": 3,
   "metadata": {},
   "outputs": [],
   "source": [
    "compute_lists = ws.compute_targets"
   ]
  },
  {
   "cell_type": "code",
   "execution_count": 29,
   "metadata": {},
   "outputs": [],
   "source": [
    "mlops_01 = ComputeTarget(ws,'MLOps-01')"
   ]
  },
  {
   "cell_type": "code",
   "execution_count": 33,
   "metadata": {},
   "outputs": [
    {
     "data": {
      "text/plain": [
       "False"
      ]
     },
     "execution_count": 33,
     "metadata": {},
     "output_type": "execute_result"
    }
   ],
   "source": [
    "mlops_01.delete()"
   ]
  },
  {
   "cell_type": "code",
   "execution_count": 4,
   "metadata": {},
   "outputs": [
    {
     "data": {
      "text/plain": [
       "dict"
      ]
     },
     "execution_count": 4,
     "metadata": {},
     "output_type": "execute_result"
    }
   ],
   "source": [
    "type(compute_lists)"
   ]
  },
  {
   "cell_type": "code",
   "execution_count": 13,
   "metadata": {},
   "outputs": [
    {
     "data": {
      "text/plain": [
       "dict_items([('MLOps-01', AmlCompute(workspace=Workspace.create(name='machine-learning', subscription_id='72300789-c223-4047-bfd5-2859014ad9f7', resource_group='machinelearning-rg'), name=MLOps-01, id=/subscriptions/72300789-c223-4047-bfd5-2859014ad9f7/resourceGroups/machinelearning-rg/providers/Microsoft.MachineLearningServices/workspaces/machine-learning/computes/MLOps-01, type=AmlCompute, provisioning_state=Succeeded, location=eastasia, tags={}))])"
      ]
     },
     "execution_count": 13,
     "metadata": {},
     "output_type": "execute_result"
    }
   ],
   "source": [
    "compute_lists.items()"
   ]
  },
  {
   "cell_type": "code",
   "execution_count": 16,
   "metadata": {},
   "outputs": [
    {
     "data": {
      "text/plain": [
       "'\"{\\'MLOps-01\\': AmlCompute(workspace=Workspace.create(name=\\'machine-learning\\', subscription_id=\\'72300789-c223-4047-bfd5-2859014ad9f7\\', resource_group=\\'machinelearning-rg\\'), name=MLOps-01, id=/subscriptions/72300789-c223-4047-bfd5-2859014ad9f7/resourceGroups/machinelearning-rg/providers/Microsoft.MachineLearningServices/workspaces/machine-learning/computes/MLOps-01, type=AmlCompute, provisioning_state=Succeeded, location=eastasia, tags={})}\"'"
      ]
     },
     "execution_count": 16,
     "metadata": {},
     "output_type": "execute_result"
    }
   ],
   "source": [
    "import json\n",
    "json.dumps(str(compute_lists),indent=4)"
   ]
  },
  {
   "cell_type": "code",
   "execution_count": 19,
   "metadata": {},
   "outputs": [
    {
     "name": "stdout",
     "output_type": "stream",
     "text": [
      "('\"{\\'MLOps-01\\': '\n",
      " \"AmlCompute(workspace=Workspace.create(name='machine-learning', \"\n",
      " \"subscription_id='72300789-c223-4047-bfd5-2859014ad9f7', \"\n",
      " \"resource_group='machinelearning-rg'), name=MLOps-01, \"\n",
      " 'id=/subscriptions/72300789-c223-4047-bfd5-2859014ad9f7/resourceGroups/machinelearning-rg/providers/Microsoft.MachineLearningServices/workspaces/machine-learning/computes/MLOps-01, '\n",
      " 'type=AmlCompute, provisioning_state=Succeeded, location=eastasia, tags={})}\"')\n"
     ]
    }
   ],
   "source": [
    "from pprint import pprint\n",
    "pprint(json.dumps(str(compute_lists),indent=4))"
   ]
  },
  {
   "cell_type": "code",
   "execution_count": 22,
   "metadata": {},
   "outputs": [
    {
     "name": "stdout",
     "output_type": "stream",
     "text": [
      "(\"{'MLOps-01': AmlCompute(workspace=Workspace.create(name='machine-learning', \"\n",
      " \"subscription_id='72300789-c223-4047-bfd5-2859014ad9f7', \"\n",
      " \"resource_group='machinelearning-rg'), name=MLOps-01, \"\n",
      " 'id=/subscriptions/72300789-c223-4047-bfd5-2859014ad9f7/resourceGroups/machinelearning-rg/providers/Microsoft.MachineLearningServices/workspaces/machine-learning/computes/MLOps-01, '\n",
      " 'type=AmlCompute, provisioning_state=Succeeded, location=eastasia, tags={})}')\n"
     ]
    }
   ],
   "source": [
    "pprint(str(compute_lists))"
   ]
  },
  {
   "cell_type": "markdown",
   "metadata": {},
   "source": [
    "\n",
    "## Get the list of Enviornment available\n",
    "\n"
   ]
  },
  {
   "cell_type": "code",
   "execution_count": null,
   "metadata": {},
   "outputs": [],
   "source": [
    "# Load your Azure ML workspace\n",
    "ws = Workspace.from_config()\n",
    "\n",
    "# Get a list of available curated environments\n",
    "envs = Environment.list(workspace=ws)\n",
    "\n",
    "# Print the names of available curated environments\n",
    "for env_name in envs:\n",
    "    print(env_name)"
   ]
  },
  {
   "cell_type": "markdown",
   "metadata": {},
   "source": [
    "### Create an environemnt from the requirements txt"
   ]
  },
  {
   "cell_type": "code",
   "execution_count": null,
   "metadata": {},
   "outputs": [],
   "source": [
    "#Create an envionment from requirements.txt file\n",
    "env = Environment.from_pip_requirements(name='mlops_01_env_from_pip_local',file_path='./requirements.txt',)\n",
    "# Register the enviorment to the workspace\n",
    "env.register(ws) \n",
    "#build the env\n",
    "env.build(ws)"
   ]
  },
  {
   "cell_type": "markdown",
   "metadata": {},
   "source": [
    "# Lets Start with an Experiment"
   ]
  },
  {
   "cell_type": "code",
   "execution_count": null,
   "metadata": {},
   "outputs": [],
   "source": [
    "from azureml.core import Experiment, RunConfiguration, ScriptRunConfig ,Environment\n",
    "\n",
    "# Load your Azure ML workspace from the config file\n",
    "ws = Workspace.from_config()\n",
    "\n",
    "# Create a new experiment\n",
    "experiment_name = \"iris-experiment\"\n",
    "experiment = Experiment(workspace=ws, name=experiment_name)\n",
    "\n",
    "\n",
    "\n",
    "# Create A Run Configuration\n",
    "run_config = RunConfiguration()\n",
    "run_config.target = \"MLOps-01\"  #The compute_targets available \n",
    "run_config.environment = ws.environments['mlops_01_env_from_pip_local']\n",
    "\n",
    "\n",
    "\n",
    "# Specify the output folder where the model and results will be saved\n",
    "output_folder = \"./outputs\"  # Change this to your desired location\n",
    "\n",
    "\n",
    "# Specify the script to run (train_01.py in this case)\n",
    "script_run_config = ScriptRunConfig(source_directory=\".\", script=\"train_01.py\", run_config=run_config,arguments=[\"--output_folder\", output_folder])\n",
    "\n",
    "\n",
    "# Submit the experiment\n",
    "run = experiment.submit(config=script_run_config)\n",
    "run.wait_for_completion(show_output=True)\n"
   ]
  },
  {
   "cell_type": "code",
   "execution_count": null,
   "metadata": {},
   "outputs": [],
   "source": [
    "\n",
    "\n",
    "\n",
    "\n",
    "\n"
   ]
  },
  {
   "cell_type": "code",
   "execution_count": null,
   "metadata": {},
   "outputs": [],
   "source": []
  },
  {
   "cell_type": "markdown",
   "metadata": {},
   "source": [
    "Data Ingestion\n"
   ]
  },
  {
   "cell_type": "code",
   "execution_count": 44,
   "metadata": {},
   "outputs": [],
   "source": [
    "from sklearn import datasets\n",
    "import pandas as pd\n",
    "# Load the dataset (e.g., Iris dataset)\n",
    "iris = datasets.load_iris()"
   ]
  },
  {
   "cell_type": "code",
   "execution_count": 43,
   "metadata": {},
   "outputs": [
    {
     "data": {
      "text/plain": [
       "['sepal length (cm)',\n",
       " 'sepal width (cm)',\n",
       " 'petal length (cm)',\n",
       " 'petal width (cm)']"
      ]
     },
     "execution_count": 43,
     "metadata": {},
     "output_type": "execute_result"
    }
   ],
   "source": [
    "iris_data.feature_names"
   ]
  },
  {
   "cell_type": "code",
   "execution_count": 45,
   "metadata": {},
   "outputs": [],
   "source": [
    "df = pd.DataFrame(data=iris.data, columns=iris.feature_names)\n",
    "df['target'] = iris.target"
   ]
  },
  {
   "cell_type": "code",
   "execution_count": 47,
   "metadata": {},
   "outputs": [
    {
     "data": {
      "text/html": [
       "<div>\n",
       "<style scoped>\n",
       "    .dataframe tbody tr th:only-of-type {\n",
       "        vertical-align: middle;\n",
       "    }\n",
       "\n",
       "    .dataframe tbody tr th {\n",
       "        vertical-align: top;\n",
       "    }\n",
       "\n",
       "    .dataframe thead th {\n",
       "        text-align: right;\n",
       "    }\n",
       "</style>\n",
       "<table border=\"1\" class=\"dataframe\">\n",
       "  <thead>\n",
       "    <tr style=\"text-align: right;\">\n",
       "      <th></th>\n",
       "      <th>sepal length (cm)</th>\n",
       "      <th>sepal width (cm)</th>\n",
       "      <th>petal length (cm)</th>\n",
       "      <th>petal width (cm)</th>\n",
       "      <th>target</th>\n",
       "    </tr>\n",
       "  </thead>\n",
       "  <tbody>\n",
       "    <tr>\n",
       "      <th>0</th>\n",
       "      <td>5.1</td>\n",
       "      <td>3.5</td>\n",
       "      <td>1.4</td>\n",
       "      <td>0.2</td>\n",
       "      <td>0</td>\n",
       "    </tr>\n",
       "    <tr>\n",
       "      <th>1</th>\n",
       "      <td>4.9</td>\n",
       "      <td>3.0</td>\n",
       "      <td>1.4</td>\n",
       "      <td>0.2</td>\n",
       "      <td>0</td>\n",
       "    </tr>\n",
       "    <tr>\n",
       "      <th>2</th>\n",
       "      <td>4.7</td>\n",
       "      <td>3.2</td>\n",
       "      <td>1.3</td>\n",
       "      <td>0.2</td>\n",
       "      <td>0</td>\n",
       "    </tr>\n",
       "    <tr>\n",
       "      <th>3</th>\n",
       "      <td>4.6</td>\n",
       "      <td>3.1</td>\n",
       "      <td>1.5</td>\n",
       "      <td>0.2</td>\n",
       "      <td>0</td>\n",
       "    </tr>\n",
       "    <tr>\n",
       "      <th>4</th>\n",
       "      <td>5.0</td>\n",
       "      <td>3.6</td>\n",
       "      <td>1.4</td>\n",
       "      <td>0.2</td>\n",
       "      <td>0</td>\n",
       "    </tr>\n",
       "    <tr>\n",
       "      <th>...</th>\n",
       "      <td>...</td>\n",
       "      <td>...</td>\n",
       "      <td>...</td>\n",
       "      <td>...</td>\n",
       "      <td>...</td>\n",
       "    </tr>\n",
       "    <tr>\n",
       "      <th>145</th>\n",
       "      <td>6.7</td>\n",
       "      <td>3.0</td>\n",
       "      <td>5.2</td>\n",
       "      <td>2.3</td>\n",
       "      <td>2</td>\n",
       "    </tr>\n",
       "    <tr>\n",
       "      <th>146</th>\n",
       "      <td>6.3</td>\n",
       "      <td>2.5</td>\n",
       "      <td>5.0</td>\n",
       "      <td>1.9</td>\n",
       "      <td>2</td>\n",
       "    </tr>\n",
       "    <tr>\n",
       "      <th>147</th>\n",
       "      <td>6.5</td>\n",
       "      <td>3.0</td>\n",
       "      <td>5.2</td>\n",
       "      <td>2.0</td>\n",
       "      <td>2</td>\n",
       "    </tr>\n",
       "    <tr>\n",
       "      <th>148</th>\n",
       "      <td>6.2</td>\n",
       "      <td>3.4</td>\n",
       "      <td>5.4</td>\n",
       "      <td>2.3</td>\n",
       "      <td>2</td>\n",
       "    </tr>\n",
       "    <tr>\n",
       "      <th>149</th>\n",
       "      <td>5.9</td>\n",
       "      <td>3.0</td>\n",
       "      <td>5.1</td>\n",
       "      <td>1.8</td>\n",
       "      <td>2</td>\n",
       "    </tr>\n",
       "  </tbody>\n",
       "</table>\n",
       "<p>150 rows × 5 columns</p>\n",
       "</div>"
      ],
      "text/plain": [
       "     sepal length (cm)  sepal width (cm)  petal length (cm)  petal width (cm)  \\\n",
       "0                  5.1               3.5                1.4               0.2   \n",
       "1                  4.9               3.0                1.4               0.2   \n",
       "2                  4.7               3.2                1.3               0.2   \n",
       "3                  4.6               3.1                1.5               0.2   \n",
       "4                  5.0               3.6                1.4               0.2   \n",
       "..                 ...               ...                ...               ...   \n",
       "145                6.7               3.0                5.2               2.3   \n",
       "146                6.3               2.5                5.0               1.9   \n",
       "147                6.5               3.0                5.2               2.0   \n",
       "148                6.2               3.4                5.4               2.3   \n",
       "149                5.9               3.0                5.1               1.8   \n",
       "\n",
       "     target  \n",
       "0         0  \n",
       "1         0  \n",
       "2         0  \n",
       "3         0  \n",
       "4         0  \n",
       "..      ...  \n",
       "145       2  \n",
       "146       2  \n",
       "147       2  \n",
       "148       2  \n",
       "149       2  \n",
       "\n",
       "[150 rows x 5 columns]"
      ]
     },
     "execution_count": 47,
     "metadata": {},
     "output_type": "execute_result"
    }
   ],
   "source": [
    "df"
   ]
  },
  {
   "cell_type": "code",
   "execution_count": 51,
   "metadata": {},
   "outputs": [
    {
     "ename": "AttributeError",
     "evalue": "'_OfflineRun' object has no attribute 'experiment'",
     "output_type": "error",
     "traceback": [
      "\u001b[0;31m---------------------------------------------------------------------------\u001b[0m",
      "\u001b[0;31mAttributeError\u001b[0m                            Traceback (most recent call last)",
      "\u001b[1;32m/home/azvmroot/projects/MLOps_01/testing.ipynb Cell 27\u001b[0m line \u001b[0;36m1\n\u001b[1;32m      <a href='vscode-notebook-cell://ssh-remote%2B20.204.135.0/home/azvmroot/projects/MLOps_01/testing.ipynb#X41sdnNjb2RlLXJlbW90ZQ%3D%3D?line=5'>6</a>\u001b[0m df[\u001b[39m'\u001b[39m\u001b[39mtarget\u001b[39m\u001b[39m'\u001b[39m] \u001b[39m=\u001b[39m iris\u001b[39m.\u001b[39mtarget\n\u001b[1;32m      <a href='vscode-notebook-cell://ssh-remote%2B20.204.135.0/home/azvmroot/projects/MLOps_01/testing.ipynb#X41sdnNjb2RlLXJlbW90ZQ%3D%3D?line=7'>8</a>\u001b[0m \u001b[39m# Register the dataset in the Azure ML workspace\u001b[39;00m\n\u001b[1;32m      <a href='vscode-notebook-cell://ssh-remote%2B20.204.135.0/home/azvmroot/projects/MLOps_01/testing.ipynb#X41sdnNjb2RlLXJlbW90ZQ%3D%3D?line=8'>9</a>\u001b[0m iris_dataset \u001b[39m=\u001b[39m Dataset\u001b[39m.\u001b[39mTabular\u001b[39m.\u001b[39mregister_pandas_dataframe(dataframe\u001b[39m=\u001b[39mdf,\n\u001b[0;32m---> <a href='vscode-notebook-cell://ssh-remote%2B20.204.135.0/home/azvmroot/projects/MLOps_01/testing.ipynb#X41sdnNjb2RlLXJlbW90ZQ%3D%3D?line=9'>10</a>\u001b[0m                                                             target\u001b[39m=\u001b[39mRun\u001b[39m.\u001b[39;49mget_context()\u001b[39m.\u001b[39;49mexperiment\u001b[39m.\u001b[39mworkspace,\n\u001b[1;32m     <a href='vscode-notebook-cell://ssh-remote%2B20.204.135.0/home/azvmroot/projects/MLOps_01/testing.ipynb#X41sdnNjb2RlLXJlbW90ZQ%3D%3D?line=10'>11</a>\u001b[0m                                                             name\u001b[39m=\u001b[39m\u001b[39m'\u001b[39m\u001b[39miris_data\u001b[39m\u001b[39m'\u001b[39m,\n\u001b[1;32m     <a href='vscode-notebook-cell://ssh-remote%2B20.204.135.0/home/azvmroot/projects/MLOps_01/testing.ipynb#X41sdnNjb2RlLXJlbW90ZQ%3D%3D?line=11'>12</a>\u001b[0m                                                         )\n",
      "\u001b[0;31mAttributeError\u001b[0m: '_OfflineRun' object has no attribute 'experiment'"
     ]
    }
   ],
   "source": [
    "# Load the dataset (e.g., Iris dataset)\n",
    "iris = datasets.load_iris()\n",
    "\n",
    "# set the iris data into a pandas df\n",
    "df = pd.DataFrame(data=iris.data, columns=iris.feature_names)\n",
    "df['target'] = iris.target\n",
    "\n",
    "# Register the dataset in the Azure ML workspace\n",
    "iris_dataset = Dataset.Tabular.register_pandas_dataframe(dataframe=df,\n",
    "                                                            target=Run.get_context().experiment.workspace,\n",
    "                                                            name='iris_data',\n",
    "                                                        )"
   ]
  },
  {
   "cell_type": "code",
   "execution_count": 53,
   "metadata": {},
   "outputs": [
    {
     "data": {
      "text/plain": [
       "{'MD-Attrition_Model_Boosted_tree-Train_Model-Trained_model-d76aed3e': DatasetRegistration(id='fab85361-fe50-4a90-a568-5d47fd9fd01e', name='MD-Attrition_Model_Boosted_tree-Train_Model-Trained_model-d76aed3e', version=1, description='This is a dataset promoted by inference graph generation automatically on 12/26/2022 09:06:00. \n",
       "\n",
       " Training pipeline run name:Attrition_Model Boosted_tree \n",
       "\n",
       "Training pipeline run id:6f1e2277-3982-437f-aeb2-7548630217ad \n",
       "\n",
       "Module Name:Train Model \n",
       "\n",
       "ModuleId:561d2c00-323e-50eb-afcf-acc6694e3244 \n",
       "\n",
       "Port:Trained_model', tags={'azureml.Designer': 'true'}), 'attrition_data': DatasetRegistration(id='148931a4-700a-4021-a40a-8b2d74f3b881', name='attrition_data', version=2, description='', tags={})}"
      ]
     },
     "execution_count": 53,
     "metadata": {},
     "output_type": "execute_result"
    }
   ],
   "source": [
    "ws.datasets"
   ]
  }
 ],
 "metadata": {
  "kernelspec": {
   "display_name": ".venv",
   "language": "python",
   "name": "python3"
  },
  "language_info": {
   "codemirror_mode": {
    "name": "ipython",
    "version": 3
   },
   "file_extension": ".py",
   "mimetype": "text/x-python",
   "name": "python",
   "nbconvert_exporter": "python",
   "pygments_lexer": "ipython3",
   "version": "3.8.10"
  },
  "orig_nbformat": 4
 },
 "nbformat": 4,
 "nbformat_minor": 2
}
